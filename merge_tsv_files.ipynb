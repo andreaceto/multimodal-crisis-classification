{
 "cells": [
  {
   "cell_type": "code",
   "execution_count": 25,
   "id": "d3bc36d1",
   "metadata": {},
   "outputs": [],
   "source": [
    "import pandas as pd\n",
    "import os"
   ]
  },
  {
   "cell_type": "code",
   "execution_count": 26,
   "id": "59693b81",
   "metadata": {},
   "outputs": [],
   "source": [
    "# folder path of .tsv files\n",
    "folder_path = \"annotations/\""
   ]
  },
  {
   "cell_type": "code",
   "execution_count": 27,
   "id": "4ee04731",
   "metadata": {},
   "outputs": [],
   "source": [
    "import os\n",
    "import pandas as pd\n",
    "\n",
    "def merge_tsv_files(folder_path: str):\n",
    "    # List all .tsv files in the specified folder\n",
    "    tsv_files = [f for f in os.listdir(folder_path) if f.endswith(\".tsv\")]\n",
    "\n",
    "    # List to collect individual DataFrames\n",
    "    df_list = []\n",
    "\n",
    "    # Iterate over each .tsv file\n",
    "    print(\"Files read:\")\n",
    "    for filename in tsv_files:\n",
    "        disaster_type = filename.replace(\".tsv\", \"\")  # e.g., 'earthquake'\n",
    "\n",
    "        path = os.path.join(folder_path, filename)\n",
    "        df = pd.read_csv(path, sep=\"\\t\")\n",
    "        print(f\"{filename}: {len(df)} rows\")\n",
    "\n",
    "        # Add a column with the disaster type\n",
    "        df[\"disaster_type\"] = disaster_type\n",
    "        df_list.append(df)\n",
    "\n",
    "    # Concatenate all DataFrames into a single one\n",
    "    df_all = pd.concat(df_list, ignore_index=True)\n",
    "    print(f\"\\nMerged file size: {len(df_all)} rows\")\n",
    "\n",
    "    # Save the merged DataFrame to a .tsv file\n",
    "    df_all.to_csv(\"data/all_annotations.tsv\", sep='\\t', index=False)\n",
    "    \n",
    "    return df_all"
   ]
  },
  {
   "cell_type": "code",
   "execution_count": 28,
   "id": "7e084837",
   "metadata": {},
   "outputs": [
    {
     "name": "stdout",
     "output_type": "stream",
     "text": [
      "Files read:\n",
      "california_wildfires_final_data.tsv: 1589 rows\n",
      "hurricane_harvey_final_data.tsv: 4434 rows\n",
      "hurricane_irma_final_data.tsv: 4504 rows\n",
      "hurricane_maria_final_data.tsv: 4556 rows\n",
      "iraq_iran_earthquake_final_data.tsv: 597 rows\n",
      "mexico_earthquake_final_data.tsv: 1380 rows\n",
      "srilanka_floods_final_data.tsv: 1022 rows\n",
      "\n",
      "Merged file size: 18082 rows\n"
     ]
    }
   ],
   "source": [
    "df_all = merge_tsv_files(folder_path)\n"
   ]
  },
  {
   "cell_type": "code",
   "execution_count": 29,
   "id": "99f32993",
   "metadata": {},
   "outputs": [
    {
     "data": {
      "text/html": [
       "<div>\n",
       "<style scoped>\n",
       "    .dataframe tbody tr th:only-of-type {\n",
       "        vertical-align: middle;\n",
       "    }\n",
       "\n",
       "    .dataframe tbody tr th {\n",
       "        vertical-align: top;\n",
       "    }\n",
       "\n",
       "    .dataframe thead th {\n",
       "        text-align: right;\n",
       "    }\n",
       "</style>\n",
       "<table border=\"1\" class=\"dataframe\">\n",
       "  <thead>\n",
       "    <tr style=\"text-align: right;\">\n",
       "      <th></th>\n",
       "      <th>tweet_id</th>\n",
       "      <th>image_id</th>\n",
       "      <th>text_info</th>\n",
       "      <th>text_info_conf</th>\n",
       "      <th>image_info</th>\n",
       "      <th>image_info_conf</th>\n",
       "      <th>text_human</th>\n",
       "      <th>text_human_conf</th>\n",
       "      <th>image_human</th>\n",
       "      <th>image_human_conf</th>\n",
       "      <th>image_damage</th>\n",
       "      <th>image_damage_conf</th>\n",
       "      <th>tweet_text</th>\n",
       "      <th>image_url</th>\n",
       "      <th>image_path</th>\n",
       "      <th>disaster_type</th>\n",
       "    </tr>\n",
       "  </thead>\n",
       "  <tbody>\n",
       "    <tr>\n",
       "      <th>0</th>\n",
       "      <td>917791044158185473</td>\n",
       "      <td>917791044158185473_0</td>\n",
       "      <td>informative</td>\n",
       "      <td>1.0</td>\n",
       "      <td>informative</td>\n",
       "      <td>0.6766</td>\n",
       "      <td>other_relevant_information</td>\n",
       "      <td>1.0</td>\n",
       "      <td>other_relevant_information</td>\n",
       "      <td>0.6766</td>\n",
       "      <td>NaN</td>\n",
       "      <td>NaN</td>\n",
       "      <td>RT @Gizmodo: Wildfires raging through Northern...</td>\n",
       "      <td>http://pbs.twimg.com/media/DLyi_WYVYAApwNg.jpg</td>\n",
       "      <td>data_image/california_wildfires/10_10_2017/917...</td>\n",
       "      <td>california_wildfires_final_data</td>\n",
       "    </tr>\n",
       "    <tr>\n",
       "      <th>1</th>\n",
       "      <td>917791130590183424</td>\n",
       "      <td>917791130590183424_0</td>\n",
       "      <td>informative</td>\n",
       "      <td>1.0</td>\n",
       "      <td>informative</td>\n",
       "      <td>0.6667</td>\n",
       "      <td>infrastructure_and_utility_damage</td>\n",
       "      <td>1.0</td>\n",
       "      <td>affected_individuals</td>\n",
       "      <td>0.6667</td>\n",
       "      <td>NaN</td>\n",
       "      <td>NaN</td>\n",
       "      <td>PHOTOS: Deadly wildfires rage in California ht...</td>\n",
       "      <td>http://pbs.twimg.com/media/DLymKm9UMAAu0qw.jpg</td>\n",
       "      <td>data_image/california_wildfires/10_10_2017/917...</td>\n",
       "      <td>california_wildfires_final_data</td>\n",
       "    </tr>\n",
       "  </tbody>\n",
       "</table>\n",
       "</div>"
      ],
      "text/plain": [
       "             tweet_id              image_id    text_info  text_info_conf  \\\n",
       "0  917791044158185473  917791044158185473_0  informative             1.0   \n",
       "1  917791130590183424  917791130590183424_0  informative             1.0   \n",
       "\n",
       "    image_info  image_info_conf                         text_human  \\\n",
       "0  informative           0.6766         other_relevant_information   \n",
       "1  informative           0.6667  infrastructure_and_utility_damage   \n",
       "\n",
       "   text_human_conf                 image_human  image_human_conf image_damage  \\\n",
       "0              1.0  other_relevant_information            0.6766          NaN   \n",
       "1              1.0        affected_individuals            0.6667          NaN   \n",
       "\n",
       "   image_damage_conf                                         tweet_text  \\\n",
       "0                NaN  RT @Gizmodo: Wildfires raging through Northern...   \n",
       "1                NaN  PHOTOS: Deadly wildfires rage in California ht...   \n",
       "\n",
       "                                        image_url  \\\n",
       "0  http://pbs.twimg.com/media/DLyi_WYVYAApwNg.jpg   \n",
       "1  http://pbs.twimg.com/media/DLymKm9UMAAu0qw.jpg   \n",
       "\n",
       "                                          image_path  \\\n",
       "0  data_image/california_wildfires/10_10_2017/917...   \n",
       "1  data_image/california_wildfires/10_10_2017/917...   \n",
       "\n",
       "                     disaster_type  \n",
       "0  california_wildfires_final_data  \n",
       "1  california_wildfires_final_data  "
      ]
     },
     "execution_count": 29,
     "metadata": {},
     "output_type": "execute_result"
    }
   ],
   "source": [
    "df_all.head(2)"
   ]
  },
  {
   "cell_type": "code",
   "execution_count": 32,
   "id": "1f0ac40f",
   "metadata": {},
   "outputs": [
    {
     "name": "stdout",
     "output_type": "stream",
     "text": [
      "['california_wildfires_final_data' 'hurricane_harvey_final_data'\n",
      " 'hurricane_irma_final_data' 'hurricane_maria_final_data'\n",
      " 'iraq_iran_earthquake_final_data' 'mexico_earthquake_final_data'\n",
      " 'srilanka_floods_final_data']\n",
      "\n",
      " Total Natural Disasters: 7\n"
     ]
    }
   ],
   "source": [
    "disasters_type = df_all[\"disaster_type\"].unique()\n",
    "\n",
    "print(disasters_type)\n",
    "print(f\"\\n Total Natural Disasters: {str(len(disasters_type))}\")"
   ]
  }
 ],
 "metadata": {
  "kernelspec": {
   "display_name": "deep_env",
   "language": "python",
   "name": "python3"
  },
  "language_info": {
   "codemirror_mode": {
    "name": "ipython",
    "version": 3
   },
   "file_extension": ".py",
   "mimetype": "text/x-python",
   "name": "python",
   "nbconvert_exporter": "python",
   "pygments_lexer": "ipython3",
   "version": "3.10.7"
  }
 },
 "nbformat": 4,
 "nbformat_minor": 5
}
